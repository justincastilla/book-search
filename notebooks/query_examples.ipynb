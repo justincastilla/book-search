{
 "cells": [
  {
   "cell_type": "code",
   "execution_count": null,
   "id": "36dbf3da-607e-42ff-80a4-f7a7e7601473",
   "metadata": {},
   "outputs": [],
   "source": [
    "!pip install -r requirements.txt"
   ]
  },
  {
   "cell_type": "code",
   "execution_count": 6,
   "id": "d7348f74-846e-4f28-b262-b2f452001e11",
   "metadata": {},
   "outputs": [],
   "source": [
    "from elasticsearch import Elasticsearch\n",
    "from getpass import getpass\n",
    "import pprint\n",
    "\n",
    "pp = pprint.PrettyPrinter(indent=2)"
   ]
  },
  {
   "cell_type": "code",
   "execution_count": 3,
   "id": "4729052a-d72f-468a-9d17-3520ed18cc38",
   "metadata": {},
   "outputs": [
    {
     "name": "stdin",
     "output_type": "stream",
     "text": [
      "Elastic deployment Cloud ID:  ········\n",
      "Elastic deployment API Key:  ········\n"
     ]
    }
   ],
   "source": [
    "cloud_id = getpass(\"Elastic deployment Cloud ID: \")\n",
    "cloud_api_key = getpass(\"Elastic deployment API Key: \")\n",
    "INDEX_NAME = 'books'\n",
    "MODEL_ID = 'sentence-transformers__msmarco-minilm-l-12-v3'\n",
    "\n",
    "es = Elasticsearch(\n",
    "    cloud_id=cloud_id,\n",
    "    api_key=cloud_api_key,\n",
    ")\n",
    "\n",
    "query_string = \"Dinosaurs are still alive\""
   ]
  },
  {
   "cell_type": "code",
   "execution_count": 29,
   "id": "fd407bef-9c72-4971-83f1-6e2cf818ab4c",
   "metadata": {},
   "outputs": [],
   "source": [
    "def print_results(search_result):\n",
    "    print(f\"Total hits: {search_result['hits']['total']['value']}\")\n",
    "    for hit in search_result[\"hits\"][\"hits\"]:\n",
    "        print(f\"Book: {hit['_source']['book_title']}\")\n",
    "        print(f\"Author: {hit['_source']['author_name']}\")\n",
    "        print(f\"Description: {hit['_source']['book_description']}\")\n",
    "        print(f\"Score: {hit['_score']}\")\n",
    "        print(\"\")"
   ]
  },
  {
   "cell_type": "markdown",
   "id": "0b76adf0-1341-423e-98dc-914c1ed34c49",
   "metadata": {},
   "source": [
    "### 1. Vector Search Example"
   ]
  },
  {
   "cell_type": "code",
   "execution_count": 30,
   "id": "b1e40135-8321-4713-abb0-0bdb82894bc7",
   "metadata": {},
   "outputs": [
    {
     "name": "stdout",
     "output_type": "stream",
     "text": [
      "Total hits: 10\n",
      "Book: Mage Against the Machine\n",
      "Author: Shaun Barger\n",
      "Description: Harry Potter meets The Terminator in this action-packed adventure about a young man who discovers that everything he believed about his world is a lie.The year is 2120. The humans are dead. The mages have retreated from the world after a madman blew up civilization with weaponized magical technology. Safe within domes that protect them from the nuclear wasteland on the other side, the mages have spent the last century putting their lives back together. Nikolai is obsessed with artifacts from twentieth-century human life: mage-crafted replica Chuck Taylors on his feet, Schwarzenegger posters on his walls, Beatlemania still alive and well in his head. But he’s also tasked with a higher calling—to maintain the Veils that protect mage-kind from the hazards of the wastes beyond. As a cadet in the Mage King’s army, Nik has finally found what he always wanted—a purpose. But when confronted by one of his former instructors gone rogue, Nik tumbles into a dark secret. The humans weren’t nuked into oblivion—they’re still alive. Not only that, outside the domes a war rages between the last enclaves of free humans and vast machine intelligences. Outside the dome, unprepared and on the run, Nik finds Jem. Jem is a Runner for the Human Resistance. A ballerina-turned-soldier by the circumstances of war, Jem is more than just a human—her cybernetic enhancement mods make her faster, smarter, and are the only things that give her a fighting chance against the artificial beings bent on humanity’s eradication. Now Nik faces an impossible decision: side with the mages and let humanity die out? Or stand with Jem and the humans—and risk endangering everything he knows and loves?\n",
      "Score: 0.7262976\n",
      "\n",
      "Book: Shakespeare's Planet\n",
      "Author: Clifford D. Simak\n",
      "Description: Carter Horton and three other crew members are sent on a mission to find a planet which would be suitable for human life. They are put in a deep sleep until they arrive. However, due to a systems malfunction, Carter is the last one left alive. When he makes it to the planet he finds that he has been in deep sleep for about two thousand years and that the ship he made it there with refuses to return to earth. The only living thing he discovers is Carnivore, who claims that there is an inter-space tunnel which is the only way to leave the planet.\n",
      "Score: 0.7249241\n",
      "\n",
      "Book: The Annals of the Heechee\n",
      "Author: Frederik Pohl\n",
      "Description: Advanced Heechee technology had enabled Robinette Broadhead to live after death as a machine-stored personality, enjoying his life by flitting along the wires from party to party with a host of other machine-people. But suddenly his decadent existence ends when an all powerful alien race intent on the utter destruction of all intelligent life reappears after eons of silence, and threatens the lives of all heechee and humans. Even Robin, virtually immortal and with unlimited access to millennia of accumulated data, cannot discover how to stop these aliens. It began to seem that only a face to face meeting could determine the future of the entire universe....\n",
      "Score: 0.7187047\n",
      "\n",
      "Book: The Annals of the Heechee\n",
      "Author: Frederik Pohl\n",
      "Description: Advanced Heechee technology had enabled Robinette Broadhead to live after death as a machine-stored personality, enjoying his life by flitting along the wires from party to party with a host of other machine-people. But suddenly his decadent existence ends when an all powerful alien race intent on the utter destruction of all intelligent life reappears after eons of silence, and threatens the lives of all heechee and humans. Even Robin, virtually immortal and with unlimited access to millennia of accumulated data, cannot discover how to stop these aliens. It began to seem that only a face to face meeting could determine the future of the entire universe....\n",
      "Score: 0.7175522\n",
      "\n",
      "Book: The Annals of the Heechee\n",
      "Author: Frederik Pohl\n",
      "Description: Advanced Heechee technology had enabled Robinette Broadhead to live after death as a machine-stored personality, enjoying his life by flitting along the wires from party to party with a host of other machine-people. But suddenly his decadent existence ends when an all powerful alien race intent on the utter destruction of all intelligent life reappears after eons of silence, and threatens the lives of all heechee and humans. Even Robin, virtually immortal and with unlimited access to millennia of accumulated data, cannot discover how to stop these aliens. It began to seem that only a face to face meeting could determine the future of the entire universe....\n",
      "Score: 0.7164204\n",
      "\n",
      "Book: The Lost World\n",
      "Author: Michael Crichton\n",
      "Description: It is now six years since the secret disaster at Jurassic Park, six years since the extraordinary dream of science and imagination came to a crashing end – the dinosaurs destroyed, the park dismantled, the island indefinitely closed to the public.There are rumors that something has survived....\n",
      "Score: 0.7145109\n",
      "\n",
      "Book: Ark\n",
      "Author: Stephen Baxter\n",
      "Description: Hundreds will live, six billion will die.Our world ended in 2052, the year the last great flood finally overwhelmed the lands.A desperate bid for survival began in America, in the years before the end. The project which could be our final act could also be an impossible dream: creating a starship to take a few hundred survivors on an epic journey to a new world.As the waters rise, as savage wars are fought over the remaining high ground, the work goes on. Those who will live, of the billions who will die, are chosen. Families are torn apart and the resources of our drowning world are marshalled for one last gamble.Ark is the story of three women, Grace, Venus and Holle, and their part in humanity's struggle to reach a new home. For the few survivors, the day of the launch will be only the beginning of the nightmare.\n",
      "Score: 0.7135205\n",
      "\n",
      "Book: West of Eden\n",
      "Author: Harry Harrison\n",
      "Description: Sixty-five million years ago, a disastrous cataclysm eliminated three quarters of all life on Earth. Overnight, the age of dinosaurs ended. The age of mammals had begun.But what if history had happened differently? What if the reptiles had survived to evolve intelligent life?In West of Eden, bestselling author Harry Harrison has created a rich, dramatic saga of a world where the descendents of the dinosaurs struggled with a clan of humans in a battle for survival.Here is the story of Kerrick, a young hunter who grows to manhood among the dinosaurs, escaping at last to rejoin his own kind. His knowledge of their strange customs makes him the humans' leader...and the dinosaurs' greatest enemy.Rivalling Frank Herbert's Dune in the majesty of its scope and conception, West of Eden is a monumental epic of love and savagery, bravery and hope.\n",
      "Score: 0.7133596\n",
      "\n",
      "Book: Barbarian\n",
      "Author: Kim Fox\n",
      "Description: I went camping once.Two hours later, I was checked into a Holiday Inn, lying on a table and getting massaged by a muscular Swedish man named Sven.If I can't survive on a campground, how can I survive by myself on an alien planet?And that's exactly where I am.The flowers are as big as cars, the bugs as big as dogs, and there's no Holiday Inn in sight.Oh, and did I forget to mention...there are freaking dinosaurs here!I would have been their lunch if it wasn't for Turic, my blue alien savior.He's no Sven but he has other ways to please me...And this muscular alien with the heavenly tongue is making this harsh alien planet feel like home. Standalone. HEA. No Cliffhanger. \n",
      "Score: 0.70899415\n",
      "\n",
      "Book: God Emperor of Dune\n",
      "Author: Frank Herbert\n",
      "Description: Book four in Frank Herbert's magnificent Dune Chronicles--one of the most significant sagas in the history of literary science fiction.Millennia have passed on Arrakis, and the once-desert planet is green with life. Leto Atreides, the son of the world's savior, the Emperor Paul Muad'Dib, is still alive but far from human. To preserve humanity's future, he sacrificed his own by merging with a sandworm, granting him near immortality as God Emperor of Dune for the past thirty-five hundred years.Leto's rule is not a benevolent one. His transformation has made not only his appearance but his morality inhuman. A rebellion, led by Siona, a member of the Atreides family, has risen to oppose the despot's rule. But Siona is unaware that Leto's vision of a Golden Path for humanity requires her to fulfill a destiny she never wanted--or could possibly conceive....Includes an introduction by Brian Herbert\n",
      "Score: 0.70639277\n",
      "\n"
     ]
    }
   ],
   "source": [
    "vector_search_result = es.search(\n",
    "        index = INDEX_NAME,\n",
    "        knn={\n",
    "            \"field\": \"description_embedding\",\n",
    "            \"k\": 10,\n",
    "            \"num_candidates\": 50,\n",
    "            \"query_vector_builder\": {\n",
    "                \"text_embedding\": {\"model_id\": MODEL_ID, \"model_text\": query_string}\n",
    "            },\n",
    "        },\n",
    "    )\n",
    "\n",
    "print_results(vector_search_result)"
   ]
  },
  {
   "cell_type": "markdown",
   "id": "c5718325-b845-45c4-94ea-6d6041863b3b",
   "metadata": {},
   "source": [
    "### 2. Full-Text Search Example"
   ]
  },
  {
   "cell_type": "code",
   "execution_count": 37,
   "id": "959be210-ee7b-44ed-9c75-2dab3d943dc8",
   "metadata": {},
   "outputs": [
    {
     "name": "stdout",
     "output_type": "stream",
     "text": [
      "Total hits: 5193\n",
      "Book: Unnatural History\n",
      "Author: Jonathan Green\n",
      "Description: In the closing years of the 20th century the British Empire's rule is still going strong. Queen Victoria is about to celebrate her 160th birthday, kept alive by advanced steam technology. London is a fantastical sprawling metropolis where dirigibles roam the skies, robot bobbies enforce the law and dinosaurs are on display in London zoo. Welcome to Magna Britannia, a steam driven world full of fantastical creations and shady villains. Here dashing dandies and mustachioed villains battle for supremacy while below the city strange things stir in the flooded tunnels of the old London Underground. In two scant months the nation, and all her colonies, will celebrate 160 years of Queen Victoria's glorious reign. But all is not well at the heart of the empire of Magna Britannia. A chain of events is about to be set in motion that, if not stopped, could lead to a world-shattering conclusion. It begins with a break-in at the Natural History Museum. A night watchman is murdered. An eminent Professor of Evolutionary Biology goes missing. Then a catastrophic overground rail-crash unleashes the dinosaurs of London Zoo\n",
      "Score: 13.028034\n",
      "\n",
      "Book: Evolution Expects\n",
      "Author: Jonathan Green\n",
      "Description: In the closing years of the 20th century the British Empire's rule is still going strong. Queen Victoria is about to celebrate her 160th birthday, kept alive by advanced steam technology. London is a fantastical sprawling metropolis where dirigibles roam the skies, robot bobbies enforce the law and dinosaurs are on display in London zoo. Welcome to Magna Britannia, a steam driven world full of fantastical creations and shady villains. Here dashing dandies and mustachioed villains battle for supremacy while below the city strange things stir in the flooded tunnels of the old London Underground. When a deadly legacy returns, Ulysses Quicksilver finds himself drawn into that pit of despair known as Bedlam. With a dangerous masked vigalante stalking the streets of London, a monster from Jewish myth on the loose in the East End and rival gangs fighting for control of the city's underworld there may be nothing Ulysses can do to prevent a catastrophic metamorphosis!\n",
      "Score: 11.930463\n",
      "\n",
      "Book: Leviathan Rising\n",
      "Author: Jonathan Green\n",
      "Description: In the closing years of the 20th century the British Empire's rule is still going strong. Queen Victoria is about to celebrate her 160th birthday, kept alive by advanced steam technology. London is a fantastical sprawling metropolis where dirigibles roam the skies, robot bobbies enforce the law and dinosaurs are on display in London zoo. Welcome to Magna Britannia, a steam driven world full of fantastical creations and shady villains. Here dashing dandies and mustachioed villains battle for supremacy while below the city strange things stir in the flooded tunnels of the old London Underground. Around the world in eighty days in style! This proud claim, made by the Carcharodon Shipping Company, is about to be put to the test as its newest and most magnificent submersible cruise liner, the Neptune, sets sail on its maiden voyage around the world. Among the great and the good who have been invited to join this historic cruise is Ulysses Quicksilver, dandy adventurer and hero of Magna Britannia, enjoying a well-deserved sojourn after the traumatic events of Queen Victoria's 160th jubilee celebrations. But something is waiting in the depths. Something that threatens the Empire itself!\n",
      "Score: 10.975939\n",
      "\n",
      "Book: Human Nature\n",
      "Author: Jonathan Green\n",
      "Description: In the closing years of the 20th century the British Empire's rule is still going strong. Queen Victoria is about to celebrate her 160th birthday, kept alive by advanced steam technology. London is a fantastical sprawling metropolis where dirigibles roam the skies, robot bobbies enforce the law and dinosaurs are on display in London zoo. Welcome to Magna Britannia, a steam driven world full of fantastical creations and shady villains. Here dashing dandies and mustachioed villains battle for supremacy while below the city strange things stir in the flooded tunnels of the old London Underground. The Whitby Mermaid has been stolen from Cruickshank's Cabinet of Curiosities and consulting detective Gabriel Wraith is on the case. And he's not the only one, for wherever there is a mystery to be solved, Ulysses Quicksilver is never far away. What does the theft of the mermaid have to do with the mysterious House of Monkeys? And what of the enigmatic criminal known as the Magpie? Ulysses embarks upon an adventure that takes him to Whitby where the mermaid was supposedly caught. But there are worse things awaiting him there than mermaids. The moors of Ghestdale are haunted by the savage Barghest beast, while in the abandoned mines beneath the Umbridge estate, abominations lurk in the darkness. And Ulysses Quicksilver is about to discover that the worst horrors are those spawned by Man's own selfish nature.\n",
      "Score: 10.43384\n",
      "\n",
      "Book: The Proposal\n",
      "Author: K.A. Applegate\n",
      "Description: The Yeerks are stepping up their invasion tactics. And Marco has problems of his own. His dad is starting to date. But Marco knows his mother might still be alive.\n",
      "Score: 9.76982\n",
      "\n",
      "Book: Comet\n",
      "Author: Laurence E. Dahners\n",
      "Description: \"Comet!\" is the fifth in a series of near future SciFi/Thrillers whose young heroine Ell Donsaii has a nerve mutation which has rendered her a genius and an athletic phenomenon. In “Comet!” she and her team begin exploring outer space using the wormholes she produced in \"Rocket.\" Unfortunately Comet Hearth-Daster is on a trajectory to strike the Earth. Though it is smaller than the object that wiped out the dinosaurs, it still weighs 300 million metric tons and if it hits it will wipe out civilization and may render the human race extinct.\n",
      "Score: 9.659653\n",
      "\n",
      "Book: West of Eden\n",
      "Author: Harry Harrison\n",
      "Description: Sixty-five million years ago, a disastrous cataclysm eliminated three quarters of all life on Earth. Overnight, the age of dinosaurs ended. The age of mammals had begun.But what if history had happened differently? What if the reptiles had survived to evolve intelligent life?In West of Eden, bestselling author Harry Harrison has created a rich, dramatic saga of a world where the descendents of the dinosaurs struggled with a clan of humans in a battle for survival.Here is the story of Kerrick, a young hunter who grows to manhood among the dinosaurs, escaping at last to rejoin his own kind. His knowledge of their strange customs makes him the humans' leader...and the dinosaurs' greatest enemy.Rivalling Frank Herbert's Dune in the majesty of its scope and conception, West of Eden is a monumental epic of love and savagery, bravery and hope.\n",
      "Score: 9.346632\n",
      "\n",
      "Book: Agatha Heterodyne and the Golden Trilobite\n",
      "Author: Phil Foglio\n",
      "Description: The climax to the second Girl Genius story-arc. The Wulfenbachs discover that Agatha is still alive and come to get her. Things are complicated by the fact that Agatha is currently possessed by the evil mastermind responsible for the Long War.\n",
      "Score: 9.315346\n",
      "\n",
      "Book: Ricky Ricotta's Mighty Robot vs. the Jurassic Jackrabbits from Jupiter\n",
      "Author: Dav Pilkey\n",
      "Description: With more than one million books in print, Ricky Ricotta and his Mighty Robot are a big hit with children! But have they finally met their match with the Jurassic Jack Rabbits from Jupiter?It's Ricky Ricotta's birthday, and as a special treat, his parents are taking him and his Mighty Robot to see dinosaurs at the museum. Too bad they've also invited Ricky's little cousin Lucy--she's a real pest! When they get to the museum, all the dinosaurs are missing their heads . . . because an evil spacebunny from Jupiter has used the dino DNA to create Jurassic Jack Rabbits! Now it's up to the entire Ricotta family, including Lucy, to stop them from taking over the planet. With their easy-to-read language and action-packed pictures, the Ricky Ricotta books are ideal for beginning readers.\n",
      "Score: 9.165591\n",
      "\n",
      "Book: The Doctor and the Dinosaurs\n",
      "Author: Mike Resnick\n",
      "Description: Steampunk wild west stars Doc Holliday, with zombies, dinosaurs, robots, and cowboys. April, 1885 Leadville, Colorado. Near death, Doc Holliday coughs blood in a sanitarium bed. But supernatural medicine man and great chief Geronimo offers one year of restored health to stop renegade Comanche medicine men from reincarnating dinosaurs against American paleontology, spearheaded by two brilliant men, Edward Drinker Cope and Othniel Charles Marsh, whose genius is only exceeded by their hatred for each other. Now, with the aid of energetic Theodore Roosevelt, gunslinger Cole Younger, and showy Buffalo Bill Cody, dying Doc Holliday must save Cope and Marsh from Comanches, living dinosaurs, and each other. Not an easy task.\n",
      "Score: 9.13942\n",
      "\n"
     ]
    }
   ],
   "source": [
    "bm25_result = es.search(\n",
    "        index=INDEX_NAME, \n",
    "        body={\n",
    "            \"query\": {\n",
    "                \"match\": {\n",
    "                    \"book_description\": query_string\n",
    "                }\n",
    "            },\n",
    "            \"size\": 10\n",
    "        },\n",
    "        \n",
    "    )\n",
    "\n",
    "print_results(bm25_result)"
   ]
  },
  {
   "cell_type": "markdown",
   "id": "bc45aca6-1243-4602-90f4-8f8cb879c087",
   "metadata": {},
   "source": [
    "### 3. Hybrid Search Example"
   ]
  },
  {
   "cell_type": "code",
   "execution_count": 38,
   "id": "e2595c6b-e997-41bf-8897-c46334de8907",
   "metadata": {},
   "outputs": [
    {
     "name": "stdout",
     "output_type": "stream",
     "text": [
      "Total hits: 5195\n",
      "Book: West of Eden\n",
      "Author: Harry Harrison\n",
      "Description: Sixty-five million years ago, a disastrous cataclysm eliminated three quarters of all life on Earth. Overnight, the age of dinosaurs ended. The age of mammals had begun.But what if history had happened differently? What if the reptiles had survived to evolve intelligent life?In West of Eden, bestselling author Harry Harrison has created a rich, dramatic saga of a world where the descendents of the dinosaurs struggled with a clan of humans in a battle for survival.Here is the story of Kerrick, a young hunter who grows to manhood among the dinosaurs, escaping at last to rejoin his own kind. His knowledge of their strange customs makes him the humans' leader...and the dinosaurs' greatest enemy.Rivalling Frank Herbert's Dune in the majesty of its scope and conception, West of Eden is a monumental epic of love and savagery, bravery and hope.\n",
      "Score: 0.03053613\n",
      "\n",
      "Book: Unnatural History\n",
      "Author: Jonathan Green\n",
      "Description: In the closing years of the 20th century the British Empire's rule is still going strong. Queen Victoria is about to celebrate her 160th birthday, kept alive by advanced steam technology. London is a fantastical sprawling metropolis where dirigibles roam the skies, robot bobbies enforce the law and dinosaurs are on display in London zoo. Welcome to Magna Britannia, a steam driven world full of fantastical creations and shady villains. Here dashing dandies and mustachioed villains battle for supremacy while below the city strange things stir in the flooded tunnels of the old London Underground. In two scant months the nation, and all her colonies, will celebrate 160 years of Queen Victoria's glorious reign. But all is not well at the heart of the empire of Magna Britannia. A chain of events is about to be set in motion that, if not stopped, could lead to a world-shattering conclusion. It begins with a break-in at the Natural History Museum. A night watchman is murdered. An eminent Professor of Evolutionary Biology goes missing. Then a catastrophic overground rail-crash unleashes the dinosaurs of London Zoo\n",
      "Score: 0.016393442\n",
      "\n",
      "Book: Mage Against the Machine\n",
      "Author: Shaun Barger\n",
      "Description: Harry Potter meets The Terminator in this action-packed adventure about a young man who discovers that everything he believed about his world is a lie.The year is 2120. The humans are dead. The mages have retreated from the world after a madman blew up civilization with weaponized magical technology. Safe within domes that protect them from the nuclear wasteland on the other side, the mages have spent the last century putting their lives back together. Nikolai is obsessed with artifacts from twentieth-century human life: mage-crafted replica Chuck Taylors on his feet, Schwarzenegger posters on his walls, Beatlemania still alive and well in his head. But he’s also tasked with a higher calling—to maintain the Veils that protect mage-kind from the hazards of the wastes beyond. As a cadet in the Mage King’s army, Nik has finally found what he always wanted—a purpose. But when confronted by one of his former instructors gone rogue, Nik tumbles into a dark secret. The humans weren’t nuked into oblivion—they’re still alive. Not only that, outside the domes a war rages between the last enclaves of free humans and vast machine intelligences. Outside the dome, unprepared and on the run, Nik finds Jem. Jem is a Runner for the Human Resistance. A ballerina-turned-soldier by the circumstances of war, Jem is more than just a human—her cybernetic enhancement mods make her faster, smarter, and are the only things that give her a fighting chance against the artificial beings bent on humanity’s eradication. Now Nik faces an impossible decision: side with the mages and let humanity die out? Or stand with Jem and the humans—and risk endangering everything he knows and loves?\n",
      "Score: 0.016393442\n",
      "\n",
      "Book: Evolution Expects\n",
      "Author: Jonathan Green\n",
      "Description: In the closing years of the 20th century the British Empire's rule is still going strong. Queen Victoria is about to celebrate her 160th birthday, kept alive by advanced steam technology. London is a fantastical sprawling metropolis where dirigibles roam the skies, robot bobbies enforce the law and dinosaurs are on display in London zoo. Welcome to Magna Britannia, a steam driven world full of fantastical creations and shady villains. Here dashing dandies and mustachioed villains battle for supremacy while below the city strange things stir in the flooded tunnels of the old London Underground. When a deadly legacy returns, Ulysses Quicksilver finds himself drawn into that pit of despair known as Bedlam. With a dangerous masked vigalante stalking the streets of London, a monster from Jewish myth on the loose in the East End and rival gangs fighting for control of the city's underworld there may be nothing Ulysses can do to prevent a catastrophic metamorphosis!\n",
      "Score: 0.016129032\n",
      "\n",
      "Book: Shakespeare's Planet\n",
      "Author: Clifford D. Simak\n",
      "Description: Carter Horton and three other crew members are sent on a mission to find a planet which would be suitable for human life. They are put in a deep sleep until they arrive. However, due to a systems malfunction, Carter is the last one left alive. When he makes it to the planet he finds that he has been in deep sleep for about two thousand years and that the ship he made it there with refuses to return to earth. The only living thing he discovers is Carnivore, who claims that there is an inter-space tunnel which is the only way to leave the planet.\n",
      "Score: 0.016129032\n",
      "\n",
      "Book: Leviathan Rising\n",
      "Author: Jonathan Green\n",
      "Description: In the closing years of the 20th century the British Empire's rule is still going strong. Queen Victoria is about to celebrate her 160th birthday, kept alive by advanced steam technology. London is a fantastical sprawling metropolis where dirigibles roam the skies, robot bobbies enforce the law and dinosaurs are on display in London zoo. Welcome to Magna Britannia, a steam driven world full of fantastical creations and shady villains. Here dashing dandies and mustachioed villains battle for supremacy while below the city strange things stir in the flooded tunnels of the old London Underground. Around the world in eighty days in style! This proud claim, made by the Carcharodon Shipping Company, is about to be put to the test as its newest and most magnificent submersible cruise liner, the Neptune, sets sail on its maiden voyage around the world. Among the great and the good who have been invited to join this historic cruise is Ulysses Quicksilver, dandy adventurer and hero of Magna Britannia, enjoying a well-deserved sojourn after the traumatic events of Queen Victoria's 160th jubilee celebrations. But something is waiting in the depths. Something that threatens the Empire itself!\n",
      "Score: 0.015873017\n",
      "\n",
      "Book: The Annals of the Heechee\n",
      "Author: Frederik Pohl\n",
      "Description: Advanced Heechee technology had enabled Robinette Broadhead to live after death as a machine-stored personality, enjoying his life by flitting along the wires from party to party with a host of other machine-people. But suddenly his decadent existence ends when an all powerful alien race intent on the utter destruction of all intelligent life reappears after eons of silence, and threatens the lives of all heechee and humans. Even Robin, virtually immortal and with unlimited access to millennia of accumulated data, cannot discover how to stop these aliens. It began to seem that only a face to face meeting could determine the future of the entire universe....\n",
      "Score: 0.015873017\n",
      "\n",
      "Book: Human Nature\n",
      "Author: Jonathan Green\n",
      "Description: In the closing years of the 20th century the British Empire's rule is still going strong. Queen Victoria is about to celebrate her 160th birthday, kept alive by advanced steam technology. London is a fantastical sprawling metropolis where dirigibles roam the skies, robot bobbies enforce the law and dinosaurs are on display in London zoo. Welcome to Magna Britannia, a steam driven world full of fantastical creations and shady villains. Here dashing dandies and mustachioed villains battle for supremacy while below the city strange things stir in the flooded tunnels of the old London Underground. The Whitby Mermaid has been stolen from Cruickshank's Cabinet of Curiosities and consulting detective Gabriel Wraith is on the case. And he's not the only one, for wherever there is a mystery to be solved, Ulysses Quicksilver is never far away. What does the theft of the mermaid have to do with the mysterious House of Monkeys? And what of the enigmatic criminal known as the Magpie? Ulysses embarks upon an adventure that takes him to Whitby where the mermaid was supposedly caught. But there are worse things awaiting him there than mermaids. The moors of Ghestdale are haunted by the savage Barghest beast, while in the abandoned mines beneath the Umbridge estate, abominations lurk in the darkness. And Ulysses Quicksilver is about to discover that the worst horrors are those spawned by Man's own selfish nature.\n",
      "Score: 0.015625\n",
      "\n",
      "Book: In the Time of Dinosaurs\n",
      "Author: K.A. Applegate\n",
      "Description: We could blame everything that happened on Marco. He was the one who heard about the downed submarine. He was the one who thought we should check it out. And everyone knows that if Marco's up to a challenge, I'm definitely there.Everything was going fine. Until the explosion. An explosion that blows us millions of years back in time. Back to the age of dinosaurs. Now Tobias, Cassie, Marco, Ax, Jake and I are fighting for our lives with every step we take. But that's not our biggest problem. Our biggest problem is we have no idea how to get back to our own time ...\n",
      "Score: 0.015625\n",
      "\n",
      "Book: The Proposal\n",
      "Author: K.A. Applegate\n",
      "Description: The Yeerks are stepping up their invasion tactics. And Marco has problems of his own. His dad is starting to date. But Marco knows his mother might still be alive.\n",
      "Score: 0.015384615\n",
      "\n"
     ]
    }
   ],
   "source": [
    "hybrid_search_result = es.search(\n",
    "    index=INDEX_NAME,\n",
    "    body={\n",
    "        \"query\": {\n",
    "            \"bool\": {\n",
    "                \"must\": [\n",
    "                    {\"match\": \n",
    "                        {\n",
    "                            \"book_description\": query_string,\n",
    "                        }\n",
    "                    },\n",
    "                ]\n",
    "            }\n",
    "        },\n",
    "        \"knn\": {\n",
    "            \"field\": \"description_embedding\",\n",
    "            \"k\": 10,\n",
    "            \"query_vector_builder\": {\n",
    "                \"text_embedding\": {\"model_id\": MODEL_ID, \"model_text\": query_string}\n",
    "            },\n",
    "        },\n",
    "        \"rank\": {\n",
    "            \"rrf\": {}\n",
    "        },\n",
    "        \"size\": 10\n",
    "    },\n",
    ")\n",
    "\n",
    "print_results(hybrid_search_result)"
   ]
  }
 ],
 "metadata": {
  "kernelspec": {
   "display_name": "Python 3 (ipykernel)",
   "language": "python",
   "name": "python3"
  },
  "language_info": {
   "codemirror_mode": {
    "name": "ipython",
    "version": 3
   },
   "file_extension": ".py",
   "mimetype": "text/x-python",
   "name": "python",
   "nbconvert_exporter": "python",
   "pygments_lexer": "ipython3",
   "version": "3.12.3"
  }
 },
 "nbformat": 4,
 "nbformat_minor": 5
}
